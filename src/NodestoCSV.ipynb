{
 "cells": [
  {
   "cell_type": "code",
   "execution_count": 1,
   "id": "2305342d",
   "metadata": {},
   "outputs": [],
   "source": [
    "# Packages\n",
    "\n",
    "import os\n",
    "import osmnx as ox\n",
    "import pandas as pd\n",
    "import geopandas as gpd\n",
    "import networkx as nx\n",
    "import numpy as np\n",
    "\n",
    "import matplotlib.pyplot as plt\n",
    "import rasterio\n",
    "from rasterio.fill import fillnodata\n",
    "\n",
    "\n",
    "%matplotlib inline"
   ]
  },
  {
   "cell_type": "code",
   "execution_count": 2,
   "id": "406ec2bb",
   "metadata": {},
   "outputs": [],
   "source": [
    "#load graph\n",
    "#G = nx.read_graphml('../data/RoadsDone/Davis.graphml')\n",
    "#nx.write_graphml_lxml(G,'../data/RoadsDone/DavisNX.graphml')"
   ]
  },
  {
   "cell_type": "code",
   "execution_count": null,
   "id": "cc3b401b",
   "metadata": {},
   "outputs": [],
   "source": []
  },
  {
   "cell_type": "code",
   "execution_count": 3,
   "id": "0db45cfe",
   "metadata": {},
   "outputs": [],
   "source": [
    "G2 = ox.load_graphml('../data/RoadsDone/Davis.graphml')"
   ]
  },
  {
   "cell_type": "code",
   "execution_count": 6,
   "id": "a9e19840",
   "metadata": {},
   "outputs": [],
   "source": [
    "nodes = ox.graph_to_gdfs(G2, edges=False)\n",
    "#nodes[['x', 'y']]"
   ]
  },
  {
   "cell_type": "code",
   "execution_count": 5,
   "id": "4e435a1b",
   "metadata": {},
   "outputs": [],
   "source": [
    "#save\n",
    "nodes.to_csv('test.csv')"
   ]
  },
  {
   "cell_type": "code",
   "execution_count": null,
   "id": "a820876c",
   "metadata": {},
   "outputs": [],
   "source": []
  }
 ],
 "metadata": {
  "kernelspec": {
   "display_name": "Python 3 (ipykernel)",
   "language": "python",
   "name": "python3"
  },
  "language_info": {
   "codemirror_mode": {
    "name": "ipython",
    "version": 3
   },
   "file_extension": ".py",
   "mimetype": "text/x-python",
   "name": "python",
   "nbconvert_exporter": "python",
   "pygments_lexer": "ipython3",
   "version": "3.10.6"
  }
 },
 "nbformat": 4,
 "nbformat_minor": 5
}
