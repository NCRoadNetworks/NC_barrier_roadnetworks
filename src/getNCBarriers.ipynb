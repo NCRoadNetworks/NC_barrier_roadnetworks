{
 "cells": [
  {
   "cell_type": "markdown",
   "id": "68dc8b08",
   "metadata": {},
   "source": [
    "## Download outlines for the barrier islands located in NC, US\n",
    "\n",
    "using data from: Mulhern, Julia S., Johnson, Cari A., and John M. Martin 2021 Dataset for: Is barrier island morphology a function of tidal and wave regime? The Hive: University of Utah Research Data Repository https://hive.utah.edu/concern/datasets/cf95jb516?locale=en.¶"
   ]
  },
  {
   "cell_type": "code",
   "execution_count": 1,
   "id": "6af68cc7",
   "metadata": {},
   "outputs": [],
   "source": [
    "### Imports\n",
    "\n",
    "import os\n",
    "import urllib\n",
    "import requests\n",
    "import zipfile\n",
    "import geopandas as gpd\n",
    "import shutil"
   ]
  },
  {
   "cell_type": "code",
   "execution_count": 2,
   "id": "8c5e4e32",
   "metadata": {},
   "outputs": [],
   "source": [
    "### Set working directory\n",
    "\n",
    "path='..' # introduce path to your working directory\n",
    "os.chdir(path)\n",
    "\n",
    "### Dowload barrier island outlines from Mulhern et al., 2021\n",
    "\n",
    "# Create folder if it does no exist\n",
    "outdir= './data/Barriers'\n",
    "if not os.path.exists(outdir):\n",
    "    os.makedirs(outdir)\n",
    "\n",
    "# Retrive zip file from repository and save it\n",
    "url = 'https://hive.utah.edu/downloads/7d278t05z'\n",
    "r = requests.get(url, allow_redirects=True)\n",
    "open('./data/Barriers/Barriers.zip', 'wb').write(r.content)\n",
    "\n",
    "# Extract files\n",
    "with zipfile.ZipFile('./data/Barriers/Barriers.zip', 'r') as zip_ref:\n",
    "    zip_ref.extractall('./data/Barriers/')\n",
    "\n",
    "# Barrier outlines are duplicated, remove duplicated files\n",
    "my_dir = './data/Barriers/Coastal_Morph_Shapefiles_Exported_2020_06_01' \n",
    "for fname in os.listdir(my_dir):\n",
    "    if fname.endswith(\"xy_.dbf\") | fname.endswith(\"xy_.shp\") | fname.endswith(\"xy_.shx\"):\n",
    "        os.remove(os.path.join(my_dir, fname))"
   ]
  },
  {
   "cell_type": "code",
   "execution_count": 3,
   "id": "0de2ccb5",
   "metadata": {},
   "outputs": [],
   "source": [
    "### Identify which barrier islands from Mulhern et al. are located in NC, USA and move them to a new folder\n",
    "\n",
    "rootdir = './data/Barriers/Coastal_Morph_Shapefiles_Exported_2020_06_01'\n",
    "\n",
    "# Create folder if it does no exist\n",
    "outdir= './data/Barriers/NC_Barriers'\n",
    "if not os.path.exists(outdir):\n",
    "    os.makedirs(outdir)\n",
    "\n",
    "AG_states=['NC'] # code for NC\n",
    "\n",
    "# Iterate through folder files and check if they start with the AG codes. If True, move file to a different folder\n",
    "for subdir, dirs, files in os.walk(rootdir):\n",
    "    for file in files:\n",
    "        file_path = os.path.join(subdir, file)\n",
    "        if file.startswith(tuple(AG_states)):  \n",
    "            shutil.move(file_path, os.path.join(outdir, os.path.basename(file_path))) "
   ]
  },
  {
   "cell_type": "code",
   "execution_count": 4,
   "id": "fa1b8322",
   "metadata": {},
   "outputs": [],
   "source": [
    "### Downloaded polygons do not include a prj file, so crs (WGS84) needs to be defined\n",
    "\n",
    "rootdir = './data/Barriers/NC_Barriers'\n",
    "extensions = ('.shp')\n",
    "\n",
    "# Iterate through folder containing the shapefiles, set crs and save shp so they have a prj file. \n",
    "for subdir, dirs, files in os.walk(rootdir):\n",
    "    for file in files:\n",
    "        ext = os.path.splitext(file)[-1].lower()\n",
    "        if ext in extensions:\n",
    "            file_path = os.path.join(subdir, file)\n",
    "            name= file.replace('.shp','')\n",
    "            data= gpd.read_file(file_path)\n",
    "            data= data.set_crs(epsg=4326)\n",
    "            data.to_file(file_path)"
   ]
  },
  {
   "cell_type": "code",
   "execution_count": 5,
   "id": "46f2e66c",
   "metadata": {},
   "outputs": [],
   "source": [
    "### Create 200 m buffer around barrier outlines to clip CUDEM tiles and make sure that all network nodes have elevation data\n",
    "\n",
    "# Loop within polygons folder and create a 200m buffer to increase the size of each barrier.  \n",
    "rootdir = './data/Barriers/NC_Barriers'\n",
    "extensions = ('.shp')\n",
    "outdir = './data/Barriers/Buffers_200m'\n",
    "\n",
    "# Create folder if it does no exist\n",
    "if not os.path.exists(outdir):\n",
    "    os.makedirs(outdir)\n",
    "\n",
    "for subdir, dirs, files in os.walk(rootdir):\n",
    "    for file in files:\n",
    "        ext = os.path.splitext(file)[-1].lower()\n",
    "        if ext in extensions:\n",
    "            file_path = os.path.join(subdir, file)\n",
    "            name= file.replace('.shp','')\n",
    "            # read polygons\n",
    "            barrier = gpd.read_file(file_path)\n",
    "            # change crs to projected\n",
    "            barrier = barrier.to_crs('esri:102003')\n",
    "            # buffer 200m\n",
    "            barrier2 = barrier['geometry'] = barrier.geometry.buffer(200)\n",
    "            # reproject to original crs\n",
    "            barrier2= barrier2.to_crs(epsg=4326)\n",
    "            # vave file\n",
    "            barrier2.to_file('./data/Barriers/Buffers_200m/{0}.shp'.format(name))"
   ]
  },
  {
   "cell_type": "code",
   "execution_count": null,
   "id": "7e4d95c5",
   "metadata": {},
   "outputs": [],
   "source": []
  }
 ],
 "metadata": {
  "kernelspec": {
   "display_name": "Python 3 (ipykernel)",
   "language": "python",
   "name": "python3"
  },
  "language_info": {
   "codemirror_mode": {
    "name": "ipython",
    "version": 3
   },
   "file_extension": ".py",
   "mimetype": "text/x-python",
   "name": "python",
   "nbconvert_exporter": "python",
   "pygments_lexer": "ipython3",
   "version": "3.10.6"
  }
 },
 "nbformat": 4,
 "nbformat_minor": 5
}
